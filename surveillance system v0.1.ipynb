{
 "cells": [
  {
   "cell_type": "code",
   "execution_count": 1,
   "metadata": {
    "scrolled": false
   },
   "outputs": [
    {
     "name": "stdout",
     "output_type": "stream",
     "text": [
      "Warning! No module named 'soundfile'\n"
     ]
    },
    {
     "ename": "SystemExit",
     "evalue": "0",
     "output_type": "error",
     "traceback": [
      "An exception has occurred, use %tb to see the full traceback.\n",
      "\u001b[1;31mSystemExit\u001b[0m\u001b[1;31m:\u001b[0m 0\n"
     ]
    },
    {
     "name": "stderr",
     "output_type": "stream",
     "text": [
      "D:\\AI\\lib\\site-packages\\IPython\\core\\interactiveshell.py:3339: UserWarning: To exit: use 'exit', 'quit', or Ctrl-D.\n",
      "  warn(\"To exit: use 'exit', 'quit', or Ctrl-D.\", stacklevel=1)\n"
     ]
    }
   ],
   "source": [
    "import sys\n",
    "import threading\n",
    "from PyQt5 import uic ,QtCore, QtGui, QtWidgets\n",
    "from PyQt5.QtWidgets import QApplication, QMainWindow, QPushButton , QLabel , QFileDialog, QCheckBox\n",
    "from PyQt5.QtGui import QImage,QPixmap\n",
    "from PyQt5.QtCore import Qt\n",
    "import cv2, imutils\n",
    "import time\n",
    "import numpy as np\n",
    "import pyshine as ps\n",
    "from ultralytics import YOLO\n",
    "\n",
    "class Window(QMainWindow):\n",
    "    def __init__(self):\n",
    "        super().__init__()\n",
    "        uic.loadUi(\"gui.ui\", self)\n",
    "        self.setWindowIcon(QtGui.QIcon('logo.ico'))\n",
    "        self.setWindowTitle(\"Surveillance System\")\n",
    "        self.initialize_button()\n",
    "        self.started = False\n",
    "        self.checkboxes = {\n",
    "            \"camera0\": self.findChild(QCheckBox, \"checkBox_0\"),\n",
    "            \"camera1\": self.findChild(QCheckBox, \"checkBox_1\"),\n",
    "            \"camera2\": self.findChild(QCheckBox, \"checkBox_2\"),\n",
    "            \"camera3\": self.findChild(QCheckBox, \"checkBox_3\"),\n",
    "            \"camera4\": self.findChild(QCheckBox, \"checkBox_4\"),\n",
    "            \"camera5\": self.findChild(QCheckBox, \"checkBox_5\"),\n",
    "        }\n",
    "\n",
    "    def initialize_button(self):\n",
    "        self.pushButton = self.findChild(QPushButton, \"pushButton\")\n",
    "        self.pushButton.clicked.connect(self.pushButton_clicked)\n",
    "        \n",
    "    def pushButton_clicked(self):\n",
    "        if self.started:\n",
    "            self.started=False\n",
    "            self.pushButton.setText('Start')\n",
    "        else:\n",
    "            self.started=True\n",
    "            self.pushButton.setText('Stop')\n",
    "    \n",
    "        self.liveViewCamera0 = threading.Thread(target=self.loadVideo,  args=('liveView_0',f\"A.avi\", self.checkboxes[\"camera0\"].isChecked()))\n",
    "        self.liveViewCamera0.start()\n",
    "        self.liveViewCamera1 = threading.Thread(target=self.loadVideo,  args=('liveView_1',f\"A.avi\", self.checkboxes[\"camera1\"].isChecked()))\n",
    "        self.liveViewCamera1.start()\n",
    "        self.liveViewCamera2 = threading.Thread(target=self.loadVideo,  args=('liveView_2',f\"AA.avi\", self.checkboxes[\"camera2\"].isChecked()))\n",
    "        self.liveViewCamera2.start()      \n",
    "        self.liveViewCamera3 = threading.Thread(target=self.loadVideo,  args=('liveView_3',f\"AAA.avi\", self.checkboxes[\"camera3\"].isChecked()))\n",
    "        self.liveViewCamera3.start()   \n",
    "        self.liveViewCamera4 = threading.Thread(target=self.loadVideo,  args=('liveView_4',f\"AAAA.avi\", self.checkboxes[\"camera4\"].isChecked()))\n",
    "        self.liveViewCamera4.start()\n",
    "        self.liveViewCamera5 = threading.Thread(target=self.loadVideo,  args=('liveView_5',f\"AAAA.avi\", self.checkboxes[\"camera5\"].isChecked()))\n",
    "        self.liveViewCamera5.start()\n",
    "        \n",
    "    def loadVideo(self, video_label, video_source, enabled):\n",
    "        if not enabled:\n",
    "            return\n",
    "\n",
    "        vid = cv2.VideoCapture(video_source)\n",
    "        count = 0\n",
    "        model = YOLO(\"yolov8n.pt\")\n",
    "        num_objects = 0\n",
    "        while vid.isOpened() and self.started:\n",
    "            QtWidgets.QApplication.processEvents()\n",
    "            ret, image = vid.read()\n",
    "            if not ret:\n",
    "                vid.set(cv2.CAP_PROP_POS_FRAMES, 0)\n",
    "                continue\n",
    "\n",
    "            image = imutils.resize(image, height=480)         \n",
    "            if count % 20 == 0:\n",
    "                num_objects = len(model.predict(image, classes=0,verbose = False)[0])\n",
    "            \n",
    "            text = \"Number of people : \" + str(num_objects)\n",
    "            image = ps.putBText(image,text,text_offset_x=30,text_offset_y=30,vspace=20,hspace=10, font_scale=1.0,background_RGB=(228,20,222),text_RGB=(255,255,255))       \n",
    "            frame = cv2.cvtColor(image, cv2.COLOR_BGR2RGB)\n",
    "            \n",
    "            qimage = QImage(frame, frame.shape[1], frame.shape[0], frame.strides[0], QImage.Format_RGB888)\n",
    "            pixmap = QPixmap.fromImage(qimage)\n",
    "            label = self.findChild(QLabel, video_label)\n",
    "            label.setPixmap(pixmap)\n",
    "            label.setScaledContents(True)\n",
    "            count += 1\n",
    "            \n",
    "        vid.release()\n",
    "        \n",
    "def main():\n",
    "    app = QApplication(sys.argv)\n",
    "    window = Window()\n",
    "    window.show()\n",
    "    sys.exit(app.exec_())\n",
    "\n",
    "if __name__ == \"__main__\":\n",
    "    main()"
   ]
  },
  {
   "cell_type": "code",
   "execution_count": 7,
   "metadata": {},
   "outputs": [
    {
     "ename": "ModuleNotFoundError",
     "evalue": "No module named 'RTFM_main'",
     "output_type": "error",
     "traceback": [
      "\u001b[1;31m---------------------------------------------------------------------------\u001b[0m",
      "\u001b[1;31mModuleNotFoundError\u001b[0m                       Traceback (most recent call last)",
      "\u001b[1;32m<ipython-input-7-0a6ab18068eb>\u001b[0m in \u001b[0;36m<module>\u001b[1;34m\u001b[0m\n\u001b[1;32m----> 1\u001b[1;33m \u001b[1;32mfrom\u001b[0m \u001b[0mRTFM_main\u001b[0m \u001b[1;32mimport\u001b[0m \u001b[0mFull_Path\u001b[0m \u001b[1;32mas\u001b[0m \u001b[0mmodel\u001b[0m\u001b[1;33m\u001b[0m\u001b[1;33m\u001b[0m\u001b[0m\n\u001b[0m",
      "\u001b[1;31mModuleNotFoundError\u001b[0m: No module named 'RTFM_main'"
     ]
    }
   ],
   "source": [
    "from RTFM_main import Full_Path as model"
   ]
  },
  {
   "cell_type": "code",
   "execution_count": 1,
   "metadata": {},
   "outputs": [
    {
     "name": "stderr",
     "output_type": "stream",
     "text": [
      "Keyring is skipped due to an exception: 'keyring.backends'\n",
      "ERROR: Directory '//' is not installable. Neither 'setup.py' nor 'pyproject.toml' found.\n"
     ]
    }
   ],
   "source": [
    "!pip install scikit-video // ffmpeg // natsort // visdom "
   ]
  },
  {
   "cell_type": "code",
   "execution_count": null,
   "metadata": {},
   "outputs": [],
   "source": []
  }
 ],
 "metadata": {
  "kernelspec": {
   "display_name": "Python 3",
   "language": "python",
   "name": "python3"
  },
  "language_info": {
   "codemirror_mode": {
    "name": "ipython",
    "version": 3
   },
   "file_extension": ".py",
   "mimetype": "text/x-python",
   "name": "python",
   "nbconvert_exporter": "python",
   "pygments_lexer": "ipython3",
   "version": "3.7.6"
  },
  "varInspector": {
   "cols": {
    "lenName": 16,
    "lenType": 16,
    "lenVar": 40
   },
   "kernels_config": {
    "python": {
     "delete_cmd_postfix": "",
     "delete_cmd_prefix": "del ",
     "library": "var_list.py",
     "varRefreshCmd": "print(var_dic_list())"
    },
    "r": {
     "delete_cmd_postfix": ") ",
     "delete_cmd_prefix": "rm(",
     "library": "var_list.r",
     "varRefreshCmd": "cat(var_dic_list()) "
    }
   },
   "types_to_exclude": [
    "module",
    "function",
    "builtin_function_or_method",
    "instance",
    "_Feature"
   ],
   "window_display": false
  }
 },
 "nbformat": 4,
 "nbformat_minor": 5
}
